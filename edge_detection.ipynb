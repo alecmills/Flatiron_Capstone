{
 "cells": [
  {
   "cell_type": "code",
   "execution_count": 5,
   "id": "44a20dba",
   "metadata": {
    "pycharm": {
     "name": "#%%\n"
    }
   },
   "outputs": [],
   "source": [
    "from PIL import Image\n",
    "from random import randint\n",
    "import matplotlib.pyplot as plt\n",
    "%matplotlib inline  \n",
    "import cv2 as cv"
   ]
  },
  {
   "cell_type": "code",
   "execution_count": 9,
   "id": "f815db90",
   "metadata": {
    "pycharm": {
     "name": "#%%\n"
    }
   },
   "outputs": [],
   "source": [
    "# Load images\n",
    "foreground_image_path = cv.imread('drone_3.jpg',0)\n",
    "background_image_path = 'background.jpg'\n",
    "\n",
    "# Set mask threshold\n",
    "pix_thresh = 245"
   ]
  },
  {
   "cell_type": "code",
   "execution_count": 10,
   "id": "8f2fd69e",
   "metadata": {},
   "outputs": [
    {
     "data": {
      "image/png": "[encoded data removed]",
      "text/plain": [
       "<Figure size 432x288 with 2 Axes>"
      ]
     },
     "metadata": {},
     "output_type": "display_data"
    }
   ],
   "source": [
    "edges = cv.Canny(foreground_image_path,100,200)\n",
    "plt.subplot(121),plt.imshow(foreground_image_path,cmap = 'gray')\n",
    "plt.title('Original Image'), plt.xticks([]), plt.yticks([])\n",
    "plt.subplot(122),plt.imshow(edges,cmap = 'gray')\n",
    "plt.title('Edge Image'), plt.xticks([]), plt.yticks([])\n",
    "plt.show()"
   ]
  },
  {
   "cell_type": "code",
   "execution_count": 3,
   "id": "673556f2",
   "metadata": {
    "pycharm": {
     "name": "#%%\n"
    }
   },
   "outputs": [],
   "source": [
    "# Load images and set max values\n",
    "foreground_image = Image.open(foreground_image_path)\n",
    "background_image = Image.open(background_image_path)\n",
    "background_max_x = background_image.size[0]\n",
    "background_max_y = background_image.size[1]\n",
    "foreground_max_x = foreground_image.size[0]\n",
    "foreground_max_y = foreground_image.size[1]"
   ]
  },
  {
   "cell_type": "code",
   "execution_count": 4,
   "id": "6ee2185d",
   "metadata": {
    "pycharm": {
     "name": "#%%\n"
    }
   },
   "outputs": [],
   "source": [
    "foreground_image.show()"
   ]
  },
  {
   "cell_type": "code",
   "execution_count": 5,
   "id": "5e7a5b77",
   "metadata": {
    "pycharm": {
     "name": "#%%\n"
    }
   },
   "outputs": [],
   "source": [
    "background_image.show()"
   ]
  },
  {
   "cell_type": "code",
   "execution_count": 6,
   "id": "0b5be595",
   "metadata": {},
   "outputs": [],
   "source": [
    "# Create mask image\n",
    "mask = Image.new('1', (foreground_max_x, foreground_max_y))"
   ]
  },
  {
   "cell_type": "code",
   "execution_count": 7,
   "id": "66cde004",
   "metadata": {},
   "outputs": [],
   "source": [
    "# Iterate over pixels and create mask\n",
    "for x in range(foreground_max_x):\n",
    "        for y in range(foreground_max_y):\n",
    "            if (sum(foreground_image.getpixel((x,y))) / 3) > pix_thresh:\n",
    "                mask.putpixel((x,y), 0)\n",
    "            else:\n",
    "                mask.putpixel((x,y), 1)"
   ]
  },
  {
   "cell_type": "code",
   "execution_count": 8,
   "id": "50fbcd0c",
   "metadata": {},
   "outputs": [],
   "source": [
    "# Resize foreground image and mask if needed\n",
    "new_x = 50\n",
    "new_y = 50\n",
    "foreground_image = foreground_image.resize((new_x, new_y))\n",
    "mask = mask.resize((new_x, new_y))"
   ]
  },
  {
   "cell_type": "code",
   "execution_count": 9,
   "id": "fc77abf4",
   "metadata": {},
   "outputs": [],
   "source": [
    "mask.show()"
   ]
  },
  {
   "cell_type": "code",
   "execution_count": 11,
   "id": "0666c1e1",
   "metadata": {
    "pycharm": {
     "name": "#%%\n"
    }
   },
   "outputs": [],
   "source": [
    "# Augmentation pipe for foreground image"
   ]
  },
  {
   "cell_type": "code",
   "execution_count": 12,
   "id": "a6e0cfcc",
   "metadata": {
    "pycharm": {
     "name": "#%%\n"
    }
   },
   "outputs": [],
   "source": [
    "# Get random copy/paste coordinates\n",
    "copy_paste_x = randint(0, background_max_x - new_x)\n",
    "copy_paste_y = randint(0, background_max_y - new_y)"
   ]
  },
  {
   "cell_type": "code",
   "execution_count": 13,
   "id": "cdcb30f2",
   "metadata": {
    "pycharm": {
     "name": "#%%\n"
    },
    "scrolled": true
   },
   "outputs": [
    {
     "name": "stdout",
     "output_type": "stream",
     "text": [
      "x:278, y:551\n"
     ]
    }
   ],
   "source": [
    "print(f'x:{copy_paste_x}, y:{copy_paste_y}')"
   ]
  },
  {
   "cell_type": "code",
   "execution_count": 16,
   "id": "d28e1b58",
   "metadata": {
    "pycharm": {
     "name": "#%%\n"
    }
   },
   "outputs": [],
   "source": [
    "# mask.show()"
   ]
  },
  {
   "cell_type": "code",
   "execution_count": 18,
   "id": "8382446b",
   "metadata": {
    "pycharm": {
     "name": "#%%\n"
    }
   },
   "outputs": [],
   "source": [
    "# Create new copy/paste image\n",
    "copy_paste_image = background_image.paste(foreground_image, (copy_paste_x, copy_paste_y), mask)"
   ]
  },
  {
   "cell_type": "code",
   "execution_count": 19,
   "id": "d326e77b",
   "metadata": {
    "pycharm": {
     "name": "#%%\n"
    },
    "scrolled": false
   },
   "outputs": [],
   "source": [
    "background_image.show()"
   ]
  },
  {
   "cell_type": "code",
   "execution_count": null,
   "id": "7a267a68",
   "metadata": {
    "pycharm": {
     "name": "#%%\n"
    }
   },
   "outputs": [],
   "source": []
  }
 ],
 "metadata": {
  "kernelspec": {
   "display_name": "Python 3 (ipykernel)",
   "language": "python",
   "name": "python3"
  },
  "language_info": {
   "codemirror_mode": {
    "name": "ipython",
    "version": 3
   },
   "file_extension": ".py",
   "mimetype": "text/x-python",
   "name": "python",
   "nbconvert_exporter": "python",
   "pygments_lexer": "ipython3",
   "version": "3.9.7"
  }
 },
 "nbformat": 4,
 "nbformat_minor": 5
}
