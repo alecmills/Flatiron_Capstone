{
 "cells": [
  {
   "cell_type": "markdown",
   "id": "dc730ca7",
   "metadata": {},
   "source": [
    "# Squishing Images"
   ]
  },
  {
   "cell_type": "markdown",
   "id": "20c3ba11",
   "metadata": {},
   "source": [
    "For the first part of the Data Preprocessing I need to get all the images to be the same size. This will squish the images to 500x500 pixels. "
   ]
  },
  {
   "cell_type": "code",
   "execution_count": 42,
   "id": "44a20dba",
   "metadata": {
    "pycharm": {
     "name": "#%%\n"
    }
   },
   "outputs": [],
   "source": [
    "from PIL import Image\n",
    "from random import randint\n",
    "import matplotlib.pyplot as plt\n",
    "%matplotlib inline  \n",
    "import cv2 as cv\n",
    "import os\n",
    "import os.path"
   ]
  },
  {
   "cell_type": "markdown",
   "id": "c9d1e275",
   "metadata": {},
   "source": [
    "This is squishing all of my images into one folder to save all that data to then have the drones coppied on to it."
   ]
  },
  {
   "cell_type": "code",
   "execution_count": 43,
   "id": "6c83db9a",
   "metadata": {},
   "outputs": [],
   "source": [
    "ims = r'/home/alec/Desktop/FlatIron/phase_4/blog4/Mountain/'\n",
    "out = r'/home/alec/Desktop/FlatIron/phase_4/blog4/backgrounds_cropped/'\n",
    "\n",
    "if not os.path.isdir(out):\n",
    "        os.mkdir(out)\n",
    "\n",
    "for file in os.listdir(ims):\n",
    "    f_img = ims + '/' + file\n",
    "    out_img = out + '/' + file\n",
    "    img = Image.open(f_img)\n",
    "    img = img.resize((500,500))\n",
    "    img.save(out_img)"
   ]
  },
  {
   "cell_type": "markdown",
   "id": "9c4ce24f",
   "metadata": {},
   "source": [
    "## Cropping Images"
   ]
  },
  {
   "cell_type": "markdown",
   "id": "d78215ee",
   "metadata": {},
   "source": [
    "This is for cropping an image instead of squishing. Am saving for later just in case"
   ]
  },
  {
   "cell_type": "code",
   "execution_count": 30,
   "id": "7a267a68",
   "metadata": {
    "pycharm": {
     "name": "#%%\n"
    }
   },
   "outputs": [],
   "source": [
    "im = Image.open('Basketball_2.jpg')"
   ]
  },
  {
   "cell_type": "code",
   "execution_count": 31,
   "id": "6a00f30e",
   "metadata": {},
   "outputs": [],
   "source": [
    "im.show()"
   ]
  },
  {
   "cell_type": "code",
   "execution_count": 34,
   "id": "c70f1ca1",
   "metadata": {},
   "outputs": [
    {
     "data": {
      "text/plain": [
       "540"
      ]
     },
     "execution_count": 34,
     "metadata": {},
     "output_type": "execute_result"
    }
   ],
   "source": [
    "max_x = im.size[0]\n",
    "max_y = im.size[1]\n",
    "max_y"
   ]
  },
  {
   "cell_type": "code",
   "execution_count": 25,
   "id": "eaf4b69d",
   "metadata": {},
   "outputs": [],
   "source": [
    "x_min = max_x * .25\n",
    "y_min = max_y * .25\n",
    "x_max = x_min + 500\n",
    "y_max = y_min + 500"
   ]
  },
  {
   "cell_type": "code",
   "execution_count": 26,
   "id": "900c907f",
   "metadata": {},
   "outputs": [],
   "source": [
    "cropped = im.crop((x_min, y_min, x_max, y_max))"
   ]
  },
  {
   "cell_type": "code",
   "execution_count": 27,
   "id": "2b7c927d",
   "metadata": {},
   "outputs": [],
   "source": [
    "cropped.show()"
   ]
  },
  {
   "cell_type": "code",
   "execution_count": 45,
   "id": "94e948c3",
   "metadata": {},
   "outputs": [],
   "source": [
    "# ims = r'/home/alec/Desktop/FlatIron/phase_4/blog4/Mountain/'\n",
    "# out = r'/home/alec/Desktop/FlatIron/phase_4/blog4/Mountains_cropped/'\n",
    "\n",
    "# if not os.path.isdir(out):\n",
    "#         os.mkdir(out)\n",
    "\n",
    "# for file in os.listdir(ims):\n",
    "#     f_img = ims + '/' + file\n",
    "#     out_img = out + '/' + file\n",
    "#     im = Image.open(f_img)\n",
    "#     max_x = im.size[0]\n",
    "#     max_y = im.size[1]\n",
    "#     x_min = max_x * .25\n",
    "#     y_min = max_y *.25\n",
    "#     x_max = x_min + 500\n",
    "#     y_max = y_min + 500\n",
    "#     cropped = im.crop((x_min, y_min, x_max, y_max))\n",
    "#     cropped.save(out_img)"
   ]
  }
 ],
 "metadata": {
  "kernelspec": {
   "display_name": "Python 3 (ipykernel)",
   "language": "python",
   "name": "python3"
  },
  "language_info": {
   "codemirror_mode": {
    "name": "ipython",
    "version": 3
   },
   "file_extension": ".py",
   "mimetype": "text/x-python",
   "name": "python",
   "nbconvert_exporter": "python",
   "pygments_lexer": "ipython3",
   "version": "3.9.7"
  }
 },
 "nbformat": 4,
 "nbformat_minor": 5
}
