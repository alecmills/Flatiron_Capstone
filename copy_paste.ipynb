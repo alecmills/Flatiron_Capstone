{
 "cells": [
  {
   "cell_type": "code",
   "execution_count": 14,
   "id": "44a20dba",
   "metadata": {
    "pycharm": {
     "name": "#%%\n"
    }
   },
   "outputs": [],
   "source": [
    "from PIL import Image\n",
    "from random import randint\n",
    "import cv2 as cv\n",
    "import array\n",
    "import os\n",
    "import sys\n",
    "import math\n",
    "# import pandas as pd\n",
    "import json\n",
    "import shutil\n",
    "import random\n",
    "import secrets\n",
    "import numpy as np\n",
    "import cv2\n",
    "import shutil\n",
    "# from scipy.spatial.distance import cdist\n",
    "# from sklearn import cluster\n",
    "from sklearn.cluster import KMeans\n",
    "from sklearn.cluster import SpectralClustering\n",
    "from sklearn.cluster import AgglomerativeClustering\n",
    "from numpy import asarray\n",
    "# import matplotlib.pyplot as plt\n",
    "#import re\n",
    "import pandas as pd\n",
    "#import fileinput\n",
    "# from pycocotools.coco import COCO\n",
    "import csv\n",
    "from tqdm import tqdm"
   ]
  },
  {
   "cell_type": "code",
   "execution_count": null,
   "id": "f815db90",
   "metadata": {
    "pycharm": {
     "name": "#%%\n"
    }
   },
   "outputs": [],
   "source": [
    "# Load images\n",
    "foreground_image_path = 'pic_037.jpg'\n",
    "background_image_path = 'test2.jpg'\n",
    "\n",
    "# Set mask threshold\n",
    "pix_thresh = 245"
   ]
  },
  {
   "cell_type": "code",
   "execution_count": null,
   "id": "673556f2",
   "metadata": {
    "pycharm": {
     "name": "#%%\n"
    }
   },
   "outputs": [],
   "source": [
    "# Load images and set max values\n",
    "foreground_image = Image.open(foreground_image_path)\n",
    "background_image = Image.open(background_image_path)\n",
    "background_max_x = background_image.size[0]\n",
    "background_max_y = background_image.size[1]\n",
    "foreground_max_x = foreground_image.size[0]\n",
    "foreground_max_y = foreground_image.size[1]"
   ]
  },
  {
   "cell_type": "code",
   "execution_count": null,
   "id": "6ee2185d",
   "metadata": {
    "pycharm": {
     "name": "#%%\n"
    }
   },
   "outputs": [],
   "source": [
    "# foreground_image.show()"
   ]
  },
  {
   "cell_type": "code",
   "execution_count": null,
   "id": "5e7a5b77",
   "metadata": {
    "pycharm": {
     "name": "#%%\n"
    }
   },
   "outputs": [],
   "source": [
    "# background_image.show()"
   ]
  },
  {
   "cell_type": "code",
   "execution_count": null,
   "id": "0b5be595",
   "metadata": {},
   "outputs": [],
   "source": [
    "# Create mask image\n",
    "mask = Image.new('1', (foreground_max_x, foreground_max_y))"
   ]
  },
  {
   "cell_type": "code",
   "execution_count": null,
   "id": "7a28e97f",
   "metadata": {},
   "outputs": [],
   "source": [
    "# Iterate over pixels and create mask\n",
    "for x in range(foreground_max_x):\n",
    "        for y in range(foreground_max_y):\n",
    "            if (sum(foreground_image.getpixel((x,y))) / 3) > pix_thresh:\n",
    "                mask.putpixel((x,y), 0)\n",
    "            else:\n",
    "                mask.putpixel((x,y), 1)"
   ]
  },
  {
   "cell_type": "code",
   "execution_count": null,
   "id": "50fbcd0c",
   "metadata": {},
   "outputs": [],
   "source": [
    "# Resize foreground image and mask if needed\n",
    "new_x = 70\n",
    "new_y = 70\n",
    "foreground_image = foreground_image.resize((new_x, new_y))\n",
    "mask = mask.resize((new_x, new_y))"
   ]
  },
  {
   "cell_type": "code",
   "execution_count": null,
   "id": "fc77abf4",
   "metadata": {},
   "outputs": [],
   "source": [
    "# mask.show()"
   ]
  },
  {
   "cell_type": "code",
   "execution_count": null,
   "id": "eec0deb3",
   "metadata": {
    "pycharm": {
     "name": "#%%\n"
    }
   },
   "outputs": [],
   "source": [
    "# # Set mask threshold\n",
    "# pix_thresh = 245"
   ]
  },
  {
   "cell_type": "code",
   "execution_count": null,
   "id": "0666c1e1",
   "metadata": {
    "pycharm": {
     "name": "#%%\n"
    }
   },
   "outputs": [],
   "source": [
    "# Augmentation pipe for foreground image"
   ]
  },
  {
   "cell_type": "code",
   "execution_count": null,
   "id": "a6e0cfcc",
   "metadata": {
    "pycharm": {
     "name": "#%%\n"
    }
   },
   "outputs": [],
   "source": [
    "# Get random copy/paste coordinates\n",
    "copy_paste_x = randint(0, background_max_x - new_x)\n",
    "copy_paste_y = randint(0, background_max_y - new_y)"
   ]
  },
  {
   "cell_type": "code",
   "execution_count": null,
   "id": "cdcb30f2",
   "metadata": {
    "pycharm": {
     "name": "#%%\n"
    },
    "scrolled": true
   },
   "outputs": [],
   "source": [
    "print(f'x:{copy_paste_x}, y:{copy_paste_y}')"
   ]
  },
  {
   "cell_type": "code",
   "execution_count": null,
   "id": "a9d5daeb",
   "metadata": {
    "pycharm": {
     "name": "#%%\n"
    }
   },
   "outputs": [],
   "source": [
    "# # Create mask image\n",
    "# mask = Image.new('1', (foreground_max_x, foreground_max_y))"
   ]
  },
  {
   "cell_type": "code",
   "execution_count": null,
   "id": "1f398129",
   "metadata": {
    "pycharm": {
     "name": "#%%\n"
    }
   },
   "outputs": [],
   "source": [
    "# # Iterate over pixels and create mask\n",
    "# for x in range(foreground_max_x):\n",
    "#         for y in range(foreground_max_y):\n",
    "#             if (sum(foreground_image.getpixel((x,y))) / 3) > pix_thresh:\n",
    "#                 mask.putpixel((x,y), 0)\n",
    "#             else:\n",
    "#                 mask.putpixel((x,y), 1)"
   ]
  },
  {
   "cell_type": "code",
   "execution_count": null,
   "id": "d28e1b58",
   "metadata": {
    "pycharm": {
     "name": "#%%\n"
    }
   },
   "outputs": [],
   "source": [
    "# mask.show()"
   ]
  },
  {
   "cell_type": "code",
   "execution_count": null,
   "id": "e93c5eb2",
   "metadata": {
    "pycharm": {
     "name": "#%%\n"
    }
   },
   "outputs": [],
   "source": [
    "# # Resize foreground image and mask if needed\n",
    "# new_x = 100\n",
    "# new_y = 100\n",
    "# foreground_image = foreground_image.resize((new_x, new_y))\n",
    "# mask = mask.resize((new_x, new_y))"
   ]
  },
  {
   "cell_type": "code",
   "execution_count": null,
   "id": "2d7afd9b",
   "metadata": {},
   "outputs": [],
   "source": [
    "# type(background_image)"
   ]
  },
  {
   "cell_type": "code",
   "execution_count": null,
   "id": "8382446b",
   "metadata": {
    "pycharm": {
     "name": "#%%\n"
    }
   },
   "outputs": [],
   "source": [
    "# Create new copy/paste image\n",
    "copy_paste_image = background_image.paste(foreground_image, (copy_paste_x, copy_paste_y), mask)"
   ]
  },
  {
   "cell_type": "code",
   "execution_count": null,
   "id": "d326e77b",
   "metadata": {
    "pycharm": {
     "name": "#%%\n"
    },
    "scrolled": false
   },
   "outputs": [],
   "source": [
    "background_image.show()"
   ]
  },
  {
   "cell_type": "code",
   "execution_count": null,
   "id": "0bfbe3ac",
   "metadata": {},
   "outputs": [],
   "source": [
    "# background_image.save('test.jpg')"
   ]
  },
  {
   "cell_type": "code",
   "execution_count": null,
   "id": "e7bfe487",
   "metadata": {},
   "outputs": [],
   "source": [
    "# image = Image.open('test.jpg') \n",
    "# img = cv.imread(\"test.jpg\", cv.IMREAD_COLOR)"
   ]
  },
  {
   "cell_type": "code",
   "execution_count": null,
   "id": "5391c44c",
   "metadata": {},
   "outputs": [],
   "source": [
    "data = asarray(background_image)"
   ]
  },
  {
   "cell_type": "code",
   "execution_count": null,
   "id": "4375c121",
   "metadata": {},
   "outputs": [],
   "source": []
  },
  {
   "cell_type": "code",
   "execution_count": null,
   "id": "3aa0f0c3",
   "metadata": {},
   "outputs": [],
   "source": [
    "new = r'/home/alec/Desktop/FlatIron/phase_4/blog4/D_1/train/kitti-test'\n",
    "x_max = (copy_paste_x + 70) \n",
    "y_max = (copy_paste_y + 70)\n",
    "x_min = (copy_paste_x)\n",
    "y_min = (copy_paste_y)\n",
    "start = ((x_min), (y_min))\n",
    "end = ((x_max), (y_max))\n",
    "color = (52, 235, 225)"
   ]
  },
  {
   "cell_type": "code",
   "execution_count": null,
   "id": "1fbb03a9",
   "metadata": {},
   "outputs": [],
   "source": [
    "# def create_kitti(background_path, drone_path):\n",
    "with open(f'{new}/{background_image_path[:-4]}_{foreground_image_path[:-4]}.txt', 'w') as f:\n",
    "    truncated, occluded, alpha = '0.00', '0', '0.00'\n",
    "    dim_x, dim_y, dim_z, loc_x, loc_y, loc_z, rotation_y = '0.00', '0.00', '0.00', '0.00', '0.00', '0.00', '0.00'\n",
    "    annotation_row = f\"drone {truncated} {occluded} {alpha} {x_min} {y_min} {x_max} \" \\\n",
    "                 f\"{y_max} {dim_x} {dim_y} {dim_z} {loc_x} {loc_y} {loc_z} {rotation_y}\"\n",
    "    f.write(f'{annotation_row}\\n')"
   ]
  },
  {
   "cell_type": "code",
   "execution_count": null,
   "id": "7a267a68",
   "metadata": {
    "pycharm": {
     "name": "#%%\n"
    },
    "scrolled": true
   },
   "outputs": [],
   "source": [
    "cv.rectangle(data, start, end, color, 2)\n",
    "from matplotlib import pyplot as plt\n",
    "plt.imshow(data, interpolation='nearest')\n",
    "plt.show()\n",
    "# image.show()\n",
    "# cv.imshow('test', img)\n",
    "# cv.imwrite(f'{new}/test.jpg', img)"
   ]
  },
  {
   "cell_type": "code",
   "execution_count": 43,
   "id": "169b3a49",
   "metadata": {},
   "outputs": [],
   "source": [
    "df = pd.read_csv('infer_results.csv')"
   ]
  },
  {
   "cell_type": "code",
   "execution_count": 44,
   "id": "d55df8da",
   "metadata": {},
   "outputs": [
    {
     "data": {
      "text/html": [
       "<div>\n",
       "<style scoped>\n",
       "    .dataframe tbody tr th:only-of-type {\n",
       "        vertical-align: middle;\n",
       "    }\n",
       "\n",
       "    .dataframe tbody tr th {\n",
       "        vertical-align: top;\n",
       "    }\n",
       "\n",
       "    .dataframe thead th {\n",
       "        text-align: right;\n",
       "    }\n",
       "</style>\n",
       "<table border=\"1\" class=\"dataframe\">\n",
       "  <thead>\n",
       "    <tr style=\"text-align: right;\">\n",
       "      <th></th>\n",
       "      <th>Unnamed: 0</th>\n",
       "      <th>test_id</th>\n",
       "      <th>dab_id</th>\n",
       "      <th>bbox_xmin</th>\n",
       "      <th>bbox_ymin</th>\n",
       "      <th>bbox_xmax</th>\n",
       "      <th>bbox_ymax</th>\n",
       "      <th>predicted_label</th>\n",
       "      <th>external_id</th>\n",
       "      <th>confidence</th>\n",
       "      <th>...</th>\n",
       "      <th>r_means</th>\n",
       "      <th>b_stds</th>\n",
       "      <th>g_stds</th>\n",
       "      <th>r_stds</th>\n",
       "      <th>roi_b_means</th>\n",
       "      <th>roi_g_means</th>\n",
       "      <th>roi_r_means</th>\n",
       "      <th>roi_b_stds</th>\n",
       "      <th>roi_g_stds</th>\n",
       "      <th>roi_r_stds</th>\n",
       "    </tr>\n",
       "  </thead>\n",
       "  <tbody>\n",
       "    <tr>\n",
       "      <th>0</th>\n",
       "      <td>0</td>\n",
       "      <td>1000</td>\n",
       "      <td>1</td>\n",
       "      <td>695</td>\n",
       "      <td>158</td>\n",
       "      <td>765</td>\n",
       "      <td>228</td>\n",
       "      <td>P_1</td>\n",
       "      <td>0000087_drone_001_2.jpg</td>\n",
       "      <td>0.945687</td>\n",
       "      <td>...</td>\n",
       "      <td>118.712265</td>\n",
       "      <td>77.448364</td>\n",
       "      <td>76.141690</td>\n",
       "      <td>75.322190</td>\n",
       "      <td>78.973880</td>\n",
       "      <td>74.797960</td>\n",
       "      <td>78.061226</td>\n",
       "      <td>43.316334</td>\n",
       "      <td>41.535450</td>\n",
       "      <td>37.858770</td>\n",
       "    </tr>\n",
       "    <tr>\n",
       "      <th>1</th>\n",
       "      <td>1</td>\n",
       "      <td>1000</td>\n",
       "      <td>1</td>\n",
       "      <td>452</td>\n",
       "      <td>156</td>\n",
       "      <td>521</td>\n",
       "      <td>225</td>\n",
       "      <td>P_1</td>\n",
       "      <td>2000031_drone_015_2.jpg</td>\n",
       "      <td>0.924940</td>\n",
       "      <td>...</td>\n",
       "      <td>130.148800</td>\n",
       "      <td>79.320470</td>\n",
       "      <td>54.743008</td>\n",
       "      <td>43.092830</td>\n",
       "      <td>197.803620</td>\n",
       "      <td>186.920180</td>\n",
       "      <td>181.368620</td>\n",
       "      <td>51.037125</td>\n",
       "      <td>50.253677</td>\n",
       "      <td>50.282814</td>\n",
       "    </tr>\n",
       "    <tr>\n",
       "      <th>2</th>\n",
       "      <td>2</td>\n",
       "      <td>1000</td>\n",
       "      <td>1</td>\n",
       "      <td>599</td>\n",
       "      <td>407</td>\n",
       "      <td>669</td>\n",
       "      <td>476</td>\n",
       "      <td>P_1</td>\n",
       "      <td>0100091_drone_017_3.jpg</td>\n",
       "      <td>0.947662</td>\n",
       "      <td>...</td>\n",
       "      <td>130.682310</td>\n",
       "      <td>69.839600</td>\n",
       "      <td>70.992640</td>\n",
       "      <td>68.209360</td>\n",
       "      <td>86.291100</td>\n",
       "      <td>83.159004</td>\n",
       "      <td>93.043274</td>\n",
       "      <td>38.484547</td>\n",
       "      <td>33.891327</td>\n",
       "      <td>36.104600</td>\n",
       "    </tr>\n",
       "    <tr>\n",
       "      <th>3</th>\n",
       "      <td>3</td>\n",
       "      <td>1000</td>\n",
       "      <td>1</td>\n",
       "      <td>668</td>\n",
       "      <td>196</td>\n",
       "      <td>739</td>\n",
       "      <td>265</td>\n",
       "      <td>P_1</td>\n",
       "      <td>6000080_drone_013_2.jpg</td>\n",
       "      <td>0.923659</td>\n",
       "      <td>...</td>\n",
       "      <td>119.398080</td>\n",
       "      <td>68.162400</td>\n",
       "      <td>63.297638</td>\n",
       "      <td>63.577420</td>\n",
       "      <td>169.020610</td>\n",
       "      <td>180.046540</td>\n",
       "      <td>190.254750</td>\n",
       "      <td>63.213787</td>\n",
       "      <td>61.141857</td>\n",
       "      <td>60.083523</td>\n",
       "    </tr>\n",
       "    <tr>\n",
       "      <th>4</th>\n",
       "      <td>4</td>\n",
       "      <td>1000</td>\n",
       "      <td>1</td>\n",
       "      <td>87</td>\n",
       "      <td>340</td>\n",
       "      <td>156</td>\n",
       "      <td>409</td>\n",
       "      <td>P_1</td>\n",
       "      <td>5000131_drone_007_4.jpg</td>\n",
       "      <td>0.941192</td>\n",
       "      <td>...</td>\n",
       "      <td>125.689445</td>\n",
       "      <td>76.538720</td>\n",
       "      <td>69.860590</td>\n",
       "      <td>76.490580</td>\n",
       "      <td>88.790800</td>\n",
       "      <td>98.316950</td>\n",
       "      <td>107.111320</td>\n",
       "      <td>50.223564</td>\n",
       "      <td>49.712360</td>\n",
       "      <td>50.051003</td>\n",
       "    </tr>\n",
       "    <tr>\n",
       "      <th>...</th>\n",
       "      <td>...</td>\n",
       "      <td>...</td>\n",
       "      <td>...</td>\n",
       "      <td>...</td>\n",
       "      <td>...</td>\n",
       "      <td>...</td>\n",
       "      <td>...</td>\n",
       "      <td>...</td>\n",
       "      <td>...</td>\n",
       "      <td>...</td>\n",
       "      <td>...</td>\n",
       "      <td>...</td>\n",
       "      <td>...</td>\n",
       "      <td>...</td>\n",
       "      <td>...</td>\n",
       "      <td>...</td>\n",
       "      <td>...</td>\n",
       "      <td>...</td>\n",
       "      <td>...</td>\n",
       "      <td>...</td>\n",
       "      <td>...</td>\n",
       "    </tr>\n",
       "    <tr>\n",
       "      <th>17794</th>\n",
       "      <td>17794</td>\n",
       "      <td>1000</td>\n",
       "      <td>1</td>\n",
       "      <td>704</td>\n",
       "      <td>261</td>\n",
       "      <td>774</td>\n",
       "      <td>329</td>\n",
       "      <td>P_1</td>\n",
       "      <td>0000631_drone_013_1.jpg</td>\n",
       "      <td>0.946999</td>\n",
       "      <td>...</td>\n",
       "      <td>122.695496</td>\n",
       "      <td>59.283325</td>\n",
       "      <td>56.967907</td>\n",
       "      <td>55.326794</td>\n",
       "      <td>113.524370</td>\n",
       "      <td>115.475000</td>\n",
       "      <td>113.653150</td>\n",
       "      <td>48.746418</td>\n",
       "      <td>56.106556</td>\n",
       "      <td>61.844910</td>\n",
       "    </tr>\n",
       "    <tr>\n",
       "      <th>17795</th>\n",
       "      <td>17795</td>\n",
       "      <td>1000</td>\n",
       "      <td>1</td>\n",
       "      <td>261</td>\n",
       "      <td>133</td>\n",
       "      <td>330</td>\n",
       "      <td>201</td>\n",
       "      <td>P_1</td>\n",
       "      <td>4100246_drone_007_2.jpg</td>\n",
       "      <td>0.938510</td>\n",
       "      <td>...</td>\n",
       "      <td>125.926790</td>\n",
       "      <td>77.981870</td>\n",
       "      <td>63.614990</td>\n",
       "      <td>57.862045</td>\n",
       "      <td>88.438410</td>\n",
       "      <td>120.493180</td>\n",
       "      <td>130.882350</td>\n",
       "      <td>43.454506</td>\n",
       "      <td>40.201940</td>\n",
       "      <td>41.940563</td>\n",
       "    </tr>\n",
       "    <tr>\n",
       "      <th>17796</th>\n",
       "      <td>17796</td>\n",
       "      <td>1000</td>\n",
       "      <td>1</td>\n",
       "      <td>233</td>\n",
       "      <td>306</td>\n",
       "      <td>302</td>\n",
       "      <td>375</td>\n",
       "      <td>P_1</td>\n",
       "      <td>3001555_drone_011_2.jpg</td>\n",
       "      <td>0.945693</td>\n",
       "      <td>...</td>\n",
       "      <td>113.773094</td>\n",
       "      <td>80.840645</td>\n",
       "      <td>71.006890</td>\n",
       "      <td>69.186960</td>\n",
       "      <td>63.873768</td>\n",
       "      <td>78.722950</td>\n",
       "      <td>78.711620</td>\n",
       "      <td>60.789173</td>\n",
       "      <td>55.016582</td>\n",
       "      <td>54.999570</td>\n",
       "    </tr>\n",
       "    <tr>\n",
       "      <th>17797</th>\n",
       "      <td>17797</td>\n",
       "      <td>1000</td>\n",
       "      <td>1</td>\n",
       "      <td>878</td>\n",
       "      <td>98</td>\n",
       "      <td>949</td>\n",
       "      <td>169</td>\n",
       "      <td>P_1</td>\n",
       "      <td>32446880977_a94ed562b5_c_drone_012_4.jpg</td>\n",
       "      <td>0.936183</td>\n",
       "      <td>...</td>\n",
       "      <td>137.173280</td>\n",
       "      <td>75.231310</td>\n",
       "      <td>64.356490</td>\n",
       "      <td>63.259598</td>\n",
       "      <td>93.731400</td>\n",
       "      <td>69.528070</td>\n",
       "      <td>69.109310</td>\n",
       "      <td>35.864487</td>\n",
       "      <td>37.114227</td>\n",
       "      <td>40.077736</td>\n",
       "    </tr>\n",
       "    <tr>\n",
       "      <th>17798</th>\n",
       "      <td>17798</td>\n",
       "      <td>1000</td>\n",
       "      <td>1</td>\n",
       "      <td>278</td>\n",
       "      <td>402</td>\n",
       "      <td>348</td>\n",
       "      <td>471</td>\n",
       "      <td>P_1</td>\n",
       "      <td>6000203_drone_013_3.jpg</td>\n",
       "      <td>0.933235</td>\n",
       "      <td>...</td>\n",
       "      <td>107.123190</td>\n",
       "      <td>65.204650</td>\n",
       "      <td>65.293370</td>\n",
       "      <td>61.807663</td>\n",
       "      <td>193.568530</td>\n",
       "      <td>196.898760</td>\n",
       "      <td>194.839970</td>\n",
       "      <td>34.212486</td>\n",
       "      <td>32.830260</td>\n",
       "      <td>33.393570</td>\n",
       "    </tr>\n",
       "  </tbody>\n",
       "</table>\n",
       "<p>17799 rows × 24 columns</p>\n",
       "</div>"
      ],
      "text/plain": [
       "       Unnamed: 0  test_id  dab_id  bbox_xmin  bbox_ymin  bbox_xmax  \\\n",
       "0               0     1000       1        695        158        765   \n",
       "1               1     1000       1        452        156        521   \n",
       "2               2     1000       1        599        407        669   \n",
       "3               3     1000       1        668        196        739   \n",
       "4               4     1000       1         87        340        156   \n",
       "...           ...      ...     ...        ...        ...        ...   \n",
       "17794       17794     1000       1        704        261        774   \n",
       "17795       17795     1000       1        261        133        330   \n",
       "17796       17796     1000       1        233        306        302   \n",
       "17797       17797     1000       1        878         98        949   \n",
       "17798       17798     1000       1        278        402        348   \n",
       "\n",
       "       bbox_ymax predicted_label                               external_id  \\\n",
       "0            228             P_1                   0000087_drone_001_2.jpg   \n",
       "1            225             P_1                   2000031_drone_015_2.jpg   \n",
       "2            476             P_1                   0100091_drone_017_3.jpg   \n",
       "3            265             P_1                   6000080_drone_013_2.jpg   \n",
       "4            409             P_1                   5000131_drone_007_4.jpg   \n",
       "...          ...             ...                                       ...   \n",
       "17794        329             P_1                   0000631_drone_013_1.jpg   \n",
       "17795        201             P_1                   4100246_drone_007_2.jpg   \n",
       "17796        375             P_1                   3001555_drone_011_2.jpg   \n",
       "17797        169             P_1  32446880977_a94ed562b5_c_drone_012_4.jpg   \n",
       "17798        471             P_1                   6000203_drone_013_3.jpg   \n",
       "\n",
       "       confidence  ...     r_means     b_stds     g_stds     r_stds  \\\n",
       "0        0.945687  ...  118.712265  77.448364  76.141690  75.322190   \n",
       "1        0.924940  ...  130.148800  79.320470  54.743008  43.092830   \n",
       "2        0.947662  ...  130.682310  69.839600  70.992640  68.209360   \n",
       "3        0.923659  ...  119.398080  68.162400  63.297638  63.577420   \n",
       "4        0.941192  ...  125.689445  76.538720  69.860590  76.490580   \n",
       "...           ...  ...         ...        ...        ...        ...   \n",
       "17794    0.946999  ...  122.695496  59.283325  56.967907  55.326794   \n",
       "17795    0.938510  ...  125.926790  77.981870  63.614990  57.862045   \n",
       "17796    0.945693  ...  113.773094  80.840645  71.006890  69.186960   \n",
       "17797    0.936183  ...  137.173280  75.231310  64.356490  63.259598   \n",
       "17798    0.933235  ...  107.123190  65.204650  65.293370  61.807663   \n",
       "\n",
       "       roi_b_means  roi_g_means  roi_r_means  roi_b_stds  roi_g_stds  \\\n",
       "0        78.973880    74.797960    78.061226   43.316334   41.535450   \n",
       "1       197.803620   186.920180   181.368620   51.037125   50.253677   \n",
       "2        86.291100    83.159004    93.043274   38.484547   33.891327   \n",
       "3       169.020610   180.046540   190.254750   63.213787   61.141857   \n",
       "4        88.790800    98.316950   107.111320   50.223564   49.712360   \n",
       "...            ...          ...          ...         ...         ...   \n",
       "17794   113.524370   115.475000   113.653150   48.746418   56.106556   \n",
       "17795    88.438410   120.493180   130.882350   43.454506   40.201940   \n",
       "17796    63.873768    78.722950    78.711620   60.789173   55.016582   \n",
       "17797    93.731400    69.528070    69.109310   35.864487   37.114227   \n",
       "17798   193.568530   196.898760   194.839970   34.212486   32.830260   \n",
       "\n",
       "       roi_r_stds  \n",
       "0       37.858770  \n",
       "1       50.282814  \n",
       "2       36.104600  \n",
       "3       60.083523  \n",
       "4       50.051003  \n",
       "...           ...  \n",
       "17794   61.844910  \n",
       "17795   41.940563  \n",
       "17796   54.999570  \n",
       "17797   40.077736  \n",
       "17798   33.393570  \n",
       "\n",
       "[17799 rows x 24 columns]"
      ]
     },
     "execution_count": 44,
     "metadata": {},
     "output_type": "execute_result"
    }
   ],
   "source": [
    "df"
   ]
  },
  {
   "cell_type": "code",
   "execution_count": null,
   "id": "e4cfedd3",
   "metadata": {},
   "outputs": [],
   "source": []
  },
  {
   "cell_type": "code",
   "execution_count": 45,
   "id": "66798d0f",
   "metadata": {},
   "outputs": [
    {
     "data": {
      "text/html": [
       "<div>\n",
       "<style scoped>\n",
       "    .dataframe tbody tr th:only-of-type {\n",
       "        vertical-align: middle;\n",
       "    }\n",
       "\n",
       "    .dataframe tbody tr th {\n",
       "        vertical-align: top;\n",
       "    }\n",
       "\n",
       "    .dataframe thead th {\n",
       "        text-align: right;\n",
       "    }\n",
       "</style>\n",
       "<table border=\"1\" class=\"dataframe\">\n",
       "  <thead>\n",
       "    <tr style=\"text-align: right;\">\n",
       "      <th></th>\n",
       "      <th>bbox_xmin</th>\n",
       "      <th>bbox_ymin</th>\n",
       "      <th>bbox_xmax</th>\n",
       "      <th>bbox_ymax</th>\n",
       "      <th>external_id</th>\n",
       "      <th>predicted_label</th>\n",
       "    </tr>\n",
       "  </thead>\n",
       "  <tbody>\n",
       "    <tr>\n",
       "      <th>17794</th>\n",
       "      <td>704</td>\n",
       "      <td>261</td>\n",
       "      <td>774</td>\n",
       "      <td>329</td>\n",
       "      <td>0000631_drone_013_1.jpg</td>\n",
       "      <td>P_1</td>\n",
       "    </tr>\n",
       "    <tr>\n",
       "      <th>17795</th>\n",
       "      <td>261</td>\n",
       "      <td>133</td>\n",
       "      <td>330</td>\n",
       "      <td>201</td>\n",
       "      <td>4100246_drone_007_2.jpg</td>\n",
       "      <td>P_1</td>\n",
       "    </tr>\n",
       "    <tr>\n",
       "      <th>17796</th>\n",
       "      <td>233</td>\n",
       "      <td>306</td>\n",
       "      <td>302</td>\n",
       "      <td>375</td>\n",
       "      <td>3001555_drone_011_2.jpg</td>\n",
       "      <td>P_1</td>\n",
       "    </tr>\n",
       "    <tr>\n",
       "      <th>17797</th>\n",
       "      <td>878</td>\n",
       "      <td>98</td>\n",
       "      <td>949</td>\n",
       "      <td>169</td>\n",
       "      <td>32446880977_a94ed562b5_c_drone_012_4.jpg</td>\n",
       "      <td>P_1</td>\n",
       "    </tr>\n",
       "    <tr>\n",
       "      <th>17798</th>\n",
       "      <td>278</td>\n",
       "      <td>402</td>\n",
       "      <td>348</td>\n",
       "      <td>471</td>\n",
       "      <td>6000203_drone_013_3.jpg</td>\n",
       "      <td>P_1</td>\n",
       "    </tr>\n",
       "  </tbody>\n",
       "</table>\n",
       "</div>"
      ],
      "text/plain": [
       "       bbox_xmin  bbox_ymin  bbox_xmax  bbox_ymax  \\\n",
       "17794        704        261        774        329   \n",
       "17795        261        133        330        201   \n",
       "17796        233        306        302        375   \n",
       "17797        878         98        949        169   \n",
       "17798        278        402        348        471   \n",
       "\n",
       "                                    external_id predicted_label  \n",
       "17794                   0000631_drone_013_1.jpg             P_1  \n",
       "17795                   4100246_drone_007_2.jpg             P_1  \n",
       "17796                   3001555_drone_011_2.jpg             P_1  \n",
       "17797  32446880977_a94ed562b5_c_drone_012_4.jpg             P_1  \n",
       "17798                   6000203_drone_013_3.jpg             P_1  "
      ]
     },
     "execution_count": 45,
     "metadata": {},
     "output_type": "execute_result"
    }
   ],
   "source": [
    "test_eval = df[['bbox_xmin', 'bbox_ymin', 'bbox_xmax', 'bbox_ymax', 'external_id', 'predicted_label' ]]\n",
    "test_eval.tail()"
   ]
  },
  {
   "cell_type": "code",
   "execution_count": 46,
   "id": "d4804b31",
   "metadata": {},
   "outputs": [],
   "source": [
    "predicted = np.array([0,363,32,429])\n",
    "actual = np.array([278,402,348,471])"
   ]
  },
  {
   "cell_type": "code",
   "execution_count": 47,
   "id": "908ba160",
   "metadata": {},
   "outputs": [
    {
     "name": "stdout",
     "output_type": "stream",
     "text": [
      "[278 348 402 471]\n"
     ]
    }
   ],
   "source": [
    "for i in test_eval.index:\n",
    "    p_x_min = test_eval.loc[i, 'bbox_xmin']\n",
    "    p_x_max = test_eval.loc[i, 'bbox_xmax']\n",
    "    p_y_min = test_eval.loc[i, 'bbox_ymin']\n",
    "    p_y_max = test_eval.loc[i, 'bbox_ymax']\n",
    "    predicted = np.array([p_x_min, p_x_max, p_y_min, p_y_max])\n",
    "print(predicted)"
   ]
  },
  {
   "cell_type": "code",
   "execution_count": 30,
   "id": "c4df1b45",
   "metadata": {},
   "outputs": [],
   "source": [
    "f = open('/home/alec/Desktop/FlatIron/phase_4/blog4/D_Alec_Flatiron_Drone/D_1/train/kitti-labels/0000047_drone_001_1.txt', 'r')"
   ]
  },
  {
   "cell_type": "code",
   "execution_count": 31,
   "id": "e2686bb3",
   "metadata": {},
   "outputs": [],
   "source": [
    "test = f.read()"
   ]
  },
  {
   "cell_type": "code",
   "execution_count": 32,
   "id": "77da1a7b",
   "metadata": {},
   "outputs": [],
   "source": [
    "test_list = test.split()"
   ]
  },
  {
   "cell_type": "code",
   "execution_count": 33,
   "id": "4f774a55",
   "metadata": {},
   "outputs": [
    {
     "name": "stdout",
     "output_type": "stream",
     "text": [
      "a_x_min: 665, a_x_max: 735, a_y_min: 110, a_y_max: 180\n"
     ]
    }
   ],
   "source": [
    "a_label = test_list[0]\n",
    "a_x_min = test_list[4]\n",
    "a_y_min = test_list[5]\n",
    "a_x_max = test_list[6]\n",
    "a_y_max = test_list[7]\n",
    "print(f'a_x_min: {a_x_min}, a_x_max: {a_x_max}, a_y_min: {a_y_min}, a_y_max: {a_y_max}')"
   ]
  },
  {
   "cell_type": "code",
   "execution_count": 49,
   "id": "aef1a79e",
   "metadata": {},
   "outputs": [],
   "source": [
    "def get_iou(boxA: list, boxB: list) -> float:\n",
    "    '''Calculate the IOU of two boxes'''\n",
    "    # determine the (x, y)-coordinates of the intersection rectangle\n",
    "    xA = max(boxA[0], boxB[0])\n",
    "    yA = max(boxA[1], boxB[1])\n",
    "    xB = min(boxA[2], boxB[2])\n",
    "    yB = min(boxA[3], boxB[3])\n",
    "    # compute the area of intersection rectangle\n",
    "    interArea = max(0, xB - xA + 1) * max(0, yB - yA + 1)\n",
    "    # compute the area of both the prediction and ground-truth\n",
    "    # rectangles\n",
    "    boxAArea = (boxA[2] - boxA[0] + 1) * (boxA[3] - boxA[1] + 1)\n",
    "    boxBArea = (boxB[2] - boxB[0] + 1) * (boxB[3] - boxB[1] + 1)\n",
    "    # compute the intersection over union by taking the intersection\n",
    "    # area and dividing it by the sum of prediction + ground-truth\n",
    "    # areas - the interesection area\n",
    "    iou = interArea / float(boxAArea + boxBArea - interArea)\n",
    "    # return the intersection over union value\n",
    "    return iou"
   ]
  },
  {
   "cell_type": "code",
   "execution_count": 48,
   "id": "c3ac0e97",
   "metadata": {},
   "outputs": [
    {
     "data": {
      "text/plain": [
       "0.3166797797010228"
      ]
     },
     "execution_count": 48,
     "metadata": {},
     "output_type": "execute_result"
    }
   ],
   "source": [
    "bb_intersection_over_union(actual, predicted)"
   ]
  },
  {
   "cell_type": "code",
   "execution_count": null,
   "id": "c58c627d",
   "metadata": {},
   "outputs": [],
   "source": []
  }
 ],
 "metadata": {
  "kernelspec": {
   "display_name": "Python 3 (ipykernel)",
   "language": "python",
   "name": "python3"
  },
  "language_info": {
   "codemirror_mode": {
    "name": "ipython",
    "version": 3
   },
   "file_extension": ".py",
   "mimetype": "text/x-python",
   "name": "python",
   "nbconvert_exporter": "python",
   "pygments_lexer": "ipython3",
   "version": "3.9.7"
  }
 },
 "nbformat": 4,
 "nbformat_minor": 5
}
